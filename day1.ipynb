{
 "cells": [
  {
   "cell_type": "markdown",
   "metadata": {},
   "source": [
    "<h2>Example Questions</h2>\n",
    "<h3>Q1: Write a Python program to print \"Hello, World!\"<h3>"
   ]
  },
  {
   "cell_type": "code",
   "execution_count": 1,
   "metadata": {},
   "outputs": [
    {
     "name": "stdout",
     "output_type": "stream",
     "text": [
      "Hello, World!\n"
     ]
    }
   ],
   "source": [
    "print(\"Hello, World!\")"
   ]
  },
  {
   "cell_type": "markdown",
   "metadata": {},
   "source": [
    "<h3>Q2: Calculate the sum of two numbers entered by the user.<h3>"
   ]
  },
  {
   "cell_type": "code",
   "execution_count": 24,
   "metadata": {},
   "outputs": [],
   "source": [
    "def get_input(data_type, input_label, error_string):\n",
    "    while True:\n",
    "        try:\n",
    "            return data_type(input(f\"Enter {input_label}:\"))\n",
    "        except ValueError:\n",
    "            print(error_string)"
   ]
  },
  {
   "cell_type": "code",
   "execution_count": 20,
   "metadata": {},
   "outputs": [
    {
     "name": "stdout",
     "output_type": "stream",
     "text": [
      "Input must be a number!\n",
      "sum: 4\n"
     ]
    }
   ],
   "source": [
    "num1 = get_input(int, \"Number 1\", \"Input must be a number!\")\n",
    "num2 = get_input(int, \"Number 2\", \"Input must be a number!\")\n",
    "sum = num1+num2\n",
    "print(\"sum:\", sum)"
   ]
  },
  {
   "cell_type": "markdown",
   "metadata": {},
   "source": [
    "<h3>Q3: Convert temperature from Celsius to Fahrenheit.<h3>"
   ]
  },
  {
   "cell_type": "code",
   "execution_count": 21,
   "metadata": {},
   "outputs": [
    {
     "name": "stdout",
     "output_type": "stream",
     "text": [
      "Input must be a number!\n",
      "Temperature in Fahrenheit: 100.4\n"
     ]
    }
   ],
   "source": [
    "c_temp = get_input(float, \"Temperature in Celsius\", \"Input must be a number!\")\n",
    "f_temp = c_temp * 9/5 + 32\n",
    "print(\"Temperature in Fahrenheit:\", f_temp)"
   ]
  },
  {
   "cell_type": "markdown",
   "metadata": {},
   "source": [
    "<h2>Practice Questions</h2>\n",
    "<h3>1. Write a Python program to calculate the area of a rectangle given its length and width.<h3>"
   ]
  },
  {
   "cell_type": "code",
   "execution_count": 10,
   "metadata": {},
   "outputs": [
    {
     "name": "stdout",
     "output_type": "stream",
     "text": [
      "Area of rectangle is: 30.0\n"
     ]
    }
   ],
   "source": [
    "length = get_input(float, \"length of rectangle\", \"Input must be a number!\")\n",
    "width = get_input(float, \"width of rectangle\", \"Input must be a number!\")\n",
    "area = length * width\n",
    "print(\"Area of rectangle is:\", area)"
   ]
  },
  {
   "cell_type": "markdown",
   "metadata": {},
   "source": [
    "<h3>2. Create a program that takes a user's name and age as input and prints a greeting message.<h3>"
   ]
  },
  {
   "cell_type": "code",
   "execution_count": 14,
   "metadata": {},
   "outputs": [
    {
     "name": "stdout",
     "output_type": "stream",
     "text": [
      "Hello saad! so you are 24 now.\n"
     ]
    }
   ],
   "source": [
    "name = input(\"Enter name\")\n",
    "age = get_input(int, \"age\", \"Input must be a number!\")\n",
    "\n",
    "print(f\"Hello {name}! so you are {age} now.\")"
   ]
  },
  {
   "cell_type": "markdown",
   "metadata": {},
   "source": [
    "<h3>3. Write a program to check if a number is even or odd.<h3>"
   ]
  },
  {
   "cell_type": "code",
   "execution_count": 22,
   "metadata": {},
   "outputs": [
    {
     "name": "stdout",
     "output_type": "stream",
     "text": [
      "Input must be a number!\n",
      "Input must be a number!\n",
      "Odd\n"
     ]
    }
   ],
   "source": [
    "num = get_input(int, \"Number\", \"Input must be a number!\")\n",
    "if num%2 == 0:\n",
    "    print(\"Even\")\n",
    "else:\n",
    "    print(\"Odd\")"
   ]
  },
  {
   "cell_type": "markdown",
   "metadata": {},
   "source": [
    "<h3>4. Given a list of numbers, find the maximum and minimum values.<h3>"
   ]
  },
  {
   "cell_type": "code",
   "execution_count": 1,
   "metadata": {},
   "outputs": [
    {
     "name": "stdout",
     "output_type": "stream",
     "text": [
      "8\n",
      "1\n"
     ]
    }
   ],
   "source": [
    "user_input = input(\"Enter items separated by spaces: \")\n",
    "user_list = user_input.split()\n",
    "max = 0\n",
    "min = -1\n",
    "for i in user_list:\n",
    "    if int(i) > max:\n",
    "        max = int(i)\n",
    "    if min == -1:\n",
    "        min = int(i)\n",
    "    if min > int(i):\n",
    "        min = int(i)\n",
    "print(max)\n",
    "print(min)"
   ]
  },
  {
   "cell_type": "markdown",
   "metadata": {},
   "source": [
    "<h3>5. Create a Python function to check if a given string is a palindrome<h3>"
   ]
  },
  {
   "cell_type": "code",
   "execution_count": 19,
   "metadata": {},
   "outputs": [
    {
     "name": "stdout",
     "output_type": "stream",
     "text": [
      "not palindrome\n"
     ]
    }
   ],
   "source": [
    "string = input(\"Enter something:\")\n",
    "reverse = ''\n",
    "for i in range(len(string)):\n",
    "    reverse += string[len(string) - 1 - i]\n",
    "\n",
    "if(string == reverse):\n",
    "    print('palindrome')\n",
    "else:\n",
    "    print('not palindrome')"
   ]
  },
  {
   "cell_type": "markdown",
   "metadata": {},
   "source": []
  },
  {
   "cell_type": "code",
   "execution_count": 34,
   "metadata": {},
   "outputs": [
    {
     "name": "stdout",
     "output_type": "stream",
     "text": [
      "Enter a valid number!\n",
      "Enter a valid number!\n",
      "Enter a valid number!\n",
      "Enter a valid number!\n",
      "Enter a valid number!\n",
      "Enter a valid number!\n",
      "Enter a valid number!\n",
      "Enter a valid number!\n",
      "Enter a valid number!\n",
      "Enter a valid number!\n",
      "Enter a valid number!\n",
      "2101.25\n"
     ]
    }
   ],
   "source": [
    "P = get_input(int, \"the principal amount (the initial amount of money)\", \"Enter a valid number!\")\n",
    "r = get_input(int, \"the annual interest rate (in decimal)\", \"Enter a valid number!\")\n",
    "n = get_input(int, \"the number of times that interest is compounded per year\", \"Enter a valid number!\")\n",
    "t = get_input(int, \"the time the money is invested for, in years\", \"Enter a valid number!\")\n",
    "\n",
    "r = r/100\n",
    "\n",
    "A = P * (1 + r/n)**n*t\n",
    "\n",
    "print(A)"
   ]
  }
 ],
 "metadata": {
  "kernelspec": {
   "display_name": "Python 3",
   "language": "python",
   "name": "python3"
  },
  "language_info": {
   "codemirror_mode": {
    "name": "ipython",
    "version": 3
   },
   "file_extension": ".py",
   "mimetype": "text/x-python",
   "name": "python",
   "nbconvert_exporter": "python",
   "pygments_lexer": "ipython3",
   "version": "3.10.8"
  }
 },
 "nbformat": 4,
 "nbformat_minor": 2
}
